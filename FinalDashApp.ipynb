{
 "cells": [
  {
   "cell_type": "code",
   "execution_count": 4,
   "metadata": {},
   "outputs": [],
   "source": [
    "import dash\n",
    "from dash import dcc, html\n",
    "from dash.dependencies import Input, Output\n",
    "import plotly.graph_objs as go\n",
    "import pandas as pd\n"
   ]
  },
  {
   "cell_type": "code",
   "execution_count": 1,
   "metadata": {},
   "outputs": [
    {
     "name": "stdout",
     "output_type": "stream",
     "text": [
      "/Users/dikshanasa/Desktop/Quantium/quantium-starter-repo/dash_env/bin/jupyter\n"
     ]
    }
   ],
   "source": [
    "!which jupyter"
   ]
  },
  {
   "cell_type": "code",
   "execution_count": 1,
   "metadata": {},
   "outputs": [
    {
     "name": "stdout",
     "output_type": "stream",
     "text": [
      "Found existing installation: dash 3.0.3\n",
      "Uninstalling dash-3.0.3:\n",
      "  Successfully uninstalled dash-3.0.3\n",
      "Found existing installation: jupyter-dash 0.4.2\n",
      "Uninstalling jupyter-dash-0.4.2:\n",
      "  Successfully uninstalled jupyter-dash-0.4.2\n",
      "Collecting dash==2.14.2\n",
      "  Downloading dash-2.14.2-py3-none-any.whl (10.2 MB)\n",
      "\u001b[2K     \u001b[38;2;114;156;31m━━━━━━━━━━━━━━━━━━━━━━━━━━━━━━━━━━━━━━━━\u001b[0m \u001b[32m10.2/10.2 MB\u001b[0m \u001b[31m23.8 MB/s\u001b[0m eta \u001b[36m0:00:00\u001b[0m[36m0:00:01\u001b[0m36m0:00:01\u001b[0m:01\u001b[0m\n",
      "\u001b[?25hCollecting jupyter-dash==0.4.2\n",
      "  Using cached jupyter_dash-0.4.2-py3-none-any.whl (23 kB)\n",
      "Requirement already satisfied: typing-extensions>=4.1.1 in ./dash_env/lib/python3.10/site-packages (from dash==2.14.2) (4.13.2)\n",
      "Requirement already satisfied: setuptools in ./dash_env/lib/python3.10/site-packages (from dash==2.14.2) (65.5.0)\n",
      "Collecting dash-core-components==2.0.0\n",
      "  Using cached dash_core_components-2.0.0-py3-none-any.whl (3.8 kB)\n",
      "Requirement already satisfied: Werkzeug<3.1 in ./dash_env/lib/python3.10/site-packages (from dash==2.14.2) (3.0.6)\n",
      "Requirement already satisfied: nest-asyncio in ./dash_env/lib/python3.10/site-packages (from dash==2.14.2) (1.6.0)\n",
      "Requirement already satisfied: importlib-metadata in ./dash_env/lib/python3.10/site-packages (from dash==2.14.2) (8.6.1)\n",
      "Requirement already satisfied: ansi2html in ./dash_env/lib/python3.10/site-packages (from dash==2.14.2) (1.9.2)\n",
      "Requirement already satisfied: Flask<3.1,>=1.0.4 in ./dash_env/lib/python3.10/site-packages (from dash==2.14.2) (3.0.3)\n",
      "Collecting dash-table==5.0.0\n",
      "  Downloading dash_table-5.0.0-py3-none-any.whl (3.9 kB)\n",
      "Requirement already satisfied: retrying in ./dash_env/lib/python3.10/site-packages (from dash==2.14.2) (1.3.4)\n",
      "Requirement already satisfied: plotly>=5.0.0 in ./dash_env/lib/python3.10/site-packages (from dash==2.14.2) (6.0.1)\n",
      "Collecting dash-html-components==2.0.0\n",
      "  Downloading dash_html_components-2.0.0-py3-none-any.whl (4.1 kB)\n",
      "Requirement already satisfied: requests in ./dash_env/lib/python3.10/site-packages (from dash==2.14.2) (2.32.3)\n",
      "Requirement already satisfied: ipython in ./dash_env/lib/python3.10/site-packages (from jupyter-dash==0.4.2) (8.35.0)\n",
      "Requirement already satisfied: ipykernel in ./dash_env/lib/python3.10/site-packages (from jupyter-dash==0.4.2) (6.29.5)\n",
      "Requirement already satisfied: itsdangerous>=2.1.2 in ./dash_env/lib/python3.10/site-packages (from Flask<3.1,>=1.0.4->dash==2.14.2) (2.2.0)\n",
      "Requirement already satisfied: Jinja2>=3.1.2 in ./dash_env/lib/python3.10/site-packages (from Flask<3.1,>=1.0.4->dash==2.14.2) (3.1.6)\n",
      "Requirement already satisfied: click>=8.1.3 in ./dash_env/lib/python3.10/site-packages (from Flask<3.1,>=1.0.4->dash==2.14.2) (8.1.8)\n",
      "Requirement already satisfied: blinker>=1.6.2 in ./dash_env/lib/python3.10/site-packages (from Flask<3.1,>=1.0.4->dash==2.14.2) (1.9.0)\n",
      "Requirement already satisfied: narwhals>=1.15.1 in ./dash_env/lib/python3.10/site-packages (from plotly>=5.0.0->dash==2.14.2) (1.35.0)\n",
      "Requirement already satisfied: packaging in ./dash_env/lib/python3.10/site-packages (from plotly>=5.0.0->dash==2.14.2) (24.2)\n",
      "Requirement already satisfied: MarkupSafe>=2.1.1 in ./dash_env/lib/python3.10/site-packages (from Werkzeug<3.1->dash==2.14.2) (3.0.2)\n",
      "Requirement already satisfied: zipp>=3.20 in ./dash_env/lib/python3.10/site-packages (from importlib-metadata->dash==2.14.2) (3.21.0)\n",
      "Requirement already satisfied: jupyter-core!=5.0.*,>=4.12 in ./dash_env/lib/python3.10/site-packages (from ipykernel->jupyter-dash==0.4.2) (5.7.2)\n",
      "Requirement already satisfied: appnope in ./dash_env/lib/python3.10/site-packages (from ipykernel->jupyter-dash==0.4.2) (0.1.4)\n",
      "Requirement already satisfied: psutil in ./dash_env/lib/python3.10/site-packages (from ipykernel->jupyter-dash==0.4.2) (7.0.0)\n",
      "Requirement already satisfied: comm>=0.1.1 in ./dash_env/lib/python3.10/site-packages (from ipykernel->jupyter-dash==0.4.2) (0.2.2)\n",
      "Requirement already satisfied: jupyter-client>=6.1.12 in ./dash_env/lib/python3.10/site-packages (from ipykernel->jupyter-dash==0.4.2) (8.6.3)\n",
      "Requirement already satisfied: matplotlib-inline>=0.1 in ./dash_env/lib/python3.10/site-packages (from ipykernel->jupyter-dash==0.4.2) (0.1.7)\n",
      "Requirement already satisfied: pyzmq>=24 in ./dash_env/lib/python3.10/site-packages (from ipykernel->jupyter-dash==0.4.2) (26.4.0)\n",
      "Requirement already satisfied: tornado>=6.1 in ./dash_env/lib/python3.10/site-packages (from ipykernel->jupyter-dash==0.4.2) (6.4.2)\n",
      "Requirement already satisfied: traitlets>=5.4.0 in ./dash_env/lib/python3.10/site-packages (from ipykernel->jupyter-dash==0.4.2) (5.14.3)\n",
      "Requirement already satisfied: debugpy>=1.6.5 in ./dash_env/lib/python3.10/site-packages (from ipykernel->jupyter-dash==0.4.2) (1.8.14)\n",
      "Requirement already satisfied: pexpect>4.3 in ./dash_env/lib/python3.10/site-packages (from ipython->jupyter-dash==0.4.2) (4.9.0)\n",
      "Requirement already satisfied: jedi>=0.16 in ./dash_env/lib/python3.10/site-packages (from ipython->jupyter-dash==0.4.2) (0.19.2)\n",
      "Requirement already satisfied: decorator in ./dash_env/lib/python3.10/site-packages (from ipython->jupyter-dash==0.4.2) (5.2.1)\n",
      "Requirement already satisfied: stack_data in ./dash_env/lib/python3.10/site-packages (from ipython->jupyter-dash==0.4.2) (0.6.3)\n",
      "Requirement already satisfied: exceptiongroup in ./dash_env/lib/python3.10/site-packages (from ipython->jupyter-dash==0.4.2) (1.2.2)\n",
      "Requirement already satisfied: prompt_toolkit<3.1.0,>=3.0.41 in ./dash_env/lib/python3.10/site-packages (from ipython->jupyter-dash==0.4.2) (3.0.51)\n",
      "Requirement already satisfied: pygments>=2.4.0 in ./dash_env/lib/python3.10/site-packages (from ipython->jupyter-dash==0.4.2) (2.19.1)\n",
      "Requirement already satisfied: charset-normalizer<4,>=2 in ./dash_env/lib/python3.10/site-packages (from requests->dash==2.14.2) (3.4.1)\n",
      "Requirement already satisfied: certifi>=2017.4.17 in ./dash_env/lib/python3.10/site-packages (from requests->dash==2.14.2) (2025.1.31)\n",
      "Requirement already satisfied: idna<4,>=2.5 in ./dash_env/lib/python3.10/site-packages (from requests->dash==2.14.2) (3.10)\n",
      "Requirement already satisfied: urllib3<3,>=1.21.1 in ./dash_env/lib/python3.10/site-packages (from requests->dash==2.14.2) (1.26.20)\n",
      "Requirement already satisfied: six>=1.7.0 in ./dash_env/lib/python3.10/site-packages (from retrying->dash==2.14.2) (1.17.0)\n",
      "Requirement already satisfied: parso<0.9.0,>=0.8.4 in ./dash_env/lib/python3.10/site-packages (from jedi>=0.16->ipython->jupyter-dash==0.4.2) (0.8.4)\n",
      "Requirement already satisfied: python-dateutil>=2.8.2 in ./dash_env/lib/python3.10/site-packages (from jupyter-client>=6.1.12->ipykernel->jupyter-dash==0.4.2) (2.9.0.post0)\n",
      "Requirement already satisfied: platformdirs>=2.5 in ./dash_env/lib/python3.10/site-packages (from jupyter-core!=5.0.*,>=4.12->ipykernel->jupyter-dash==0.4.2) (4.3.7)\n",
      "Requirement already satisfied: ptyprocess>=0.5 in ./dash_env/lib/python3.10/site-packages (from pexpect>4.3->ipython->jupyter-dash==0.4.2) (0.7.0)\n",
      "Requirement already satisfied: wcwidth in ./dash_env/lib/python3.10/site-packages (from prompt_toolkit<3.1.0,>=3.0.41->ipython->jupyter-dash==0.4.2) (0.2.13)\n",
      "Requirement already satisfied: pure-eval in ./dash_env/lib/python3.10/site-packages (from stack_data->ipython->jupyter-dash==0.4.2) (0.2.3)\n",
      "Requirement already satisfied: executing>=1.2.0 in ./dash_env/lib/python3.10/site-packages (from stack_data->ipython->jupyter-dash==0.4.2) (2.2.0)\n",
      "Requirement already satisfied: asttokens>=2.1.0 in ./dash_env/lib/python3.10/site-packages (from stack_data->ipython->jupyter-dash==0.4.2) (3.0.0)\n",
      "Installing collected packages: dash-table, dash-html-components, dash-core-components, dash, jupyter-dash\n",
      "Successfully installed dash-2.14.2 dash-core-components-2.0.0 dash-html-components-2.0.0 dash-table-5.0.0 jupyter-dash-0.4.2\n",
      "\n",
      "\u001b[1m[\u001b[0m\u001b[34;49mnotice\u001b[0m\u001b[1;39;49m]\u001b[0m\u001b[39;49m A new release of pip is available: \u001b[0m\u001b[31;49m23.0.1\u001b[0m\u001b[39;49m -> \u001b[0m\u001b[32;49m25.0.1\u001b[0m\n",
      "\u001b[1m[\u001b[0m\u001b[34;49mnotice\u001b[0m\u001b[1;39;49m]\u001b[0m\u001b[39;49m To update, run: \u001b[0m\u001b[32;49mpip install --upgrade pip\u001b[0m\n"
     ]
    }
   ],
   "source": [
    "!pip uninstall -y dash jupyter-dash\n",
    "!pip install dash==2.14.2 jupyter-dash==0.4.2\n"
   ]
  },
  {
   "cell_type": "code",
   "execution_count": 2,
   "metadata": {},
   "outputs": [
    {
     "data": {
      "text/html": [
       "\n",
       "        <iframe\n",
       "            width=\"100%\"\n",
       "            height=\"650\"\n",
       "            src=\"http://127.0.0.1:8050/\"\n",
       "            frameborder=\"0\"\n",
       "            allowfullscreen\n",
       "            \n",
       "        ></iframe>\n",
       "        "
      ],
      "text/plain": [
       "<IPython.lib.display.IFrame at 0x1084a21d0>"
      ]
     },
     "metadata": {},
     "output_type": "display_data"
    }
   ],
   "source": [
    "from dash import Dash, dcc, html\n",
    "from dash.dependencies import Input, Output\n",
    "\n",
    "app = Dash(__name__)\n",
    "\n",
    "app.layout = html.Div([\n",
    "    html.H1(\n",
    "        \"Pink Morsels Sales Visualizer\", \n",
    "        style={'textAlign': 'center', 'color': '#4CAF50', 'fontSize': 36}\n",
    "    ),\n",
    "    dcc.RadioItems(\n",
    "        id='region-selector',\n",
    "        options=[\n",
    "            {'label': 'North', 'value': 'north'},\n",
    "            {'label': 'East', 'value': 'east'},\n",
    "            {'label': 'South', 'value': 'south'},\n",
    "            {'label': 'West', 'value': 'west'},\n",
    "            {'label': 'All', 'value': 'all'}\n",
    "        ],\n",
    "        value='all',\n",
    "        labelStyle={'display': 'inline-block', 'padding': '10px', 'fontSize': 18},\n",
    "        style={'margin': '20px', 'textAlign': 'center'}\n",
    "    ),\n",
    "    dcc.Graph(id='sales-graph', style={'margin': '0 auto', 'width': '80%'})\n",
    "])\n",
    "\n",
    "if __name__ == '__main__':\n",
    "    app.run_server(debug=True)\n"
   ]
  },
  {
   "cell_type": "code",
   "execution_count": null,
   "metadata": {},
   "outputs": [],
   "source": []
  }
 ],
 "metadata": {
  "kernelspec": {
   "display_name": "Python 3 (ipykernel)",
   "language": "python",
   "name": "python3"
  },
  "language_info": {
   "codemirror_mode": {
    "name": "ipython",
    "version": 3
   },
   "file_extension": ".py",
   "mimetype": "text/x-python",
   "name": "python",
   "nbconvert_exporter": "python",
   "pygments_lexer": "ipython3",
   "version": "3.10.12"
  }
 },
 "nbformat": 4,
 "nbformat_minor": 2
}
